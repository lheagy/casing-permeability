{
 "cells": [
  {
   "cell_type": "code",
   "execution_count": 1,
   "id": "aff9364c-34f4-4f33-b180-6e50d2e2b325",
   "metadata": {},
   "outputs": [],
   "source": [
    "import numpy as np\n",
    "import scipy.sparse as sp\n",
    "from scipy.constants import mu_0\n",
    "import matplotlib.pyplot as plt\n",
    "from matplotlib.colors import LogNorm, LinearSegmentedColormap, Normalize\n",
    "from matplotlib import cm as colormap\n",
    "import time\n",
    "from string import ascii_lowercase\n",
    "\n",
    "# SimPEG/ discretize\n",
    "import discretize\n",
    "from discretize import utils\n",
    "from SimPEG.electromagnetics import time_domain as tdem\n",
    "from SimPEG import utils, maps, Report\n",
    "from pymatsolver import Pardiso\n",
    "\n",
    "# casing utility code \n",
    "import casingSimulations as casing_sim"
   ]
  },
  {
   "cell_type": "code",
   "execution_count": 2,
   "id": "55e9a9a7-834a-4be3-ae69-de8603d2dba9",
   "metadata": {},
   "outputs": [],
   "source": [
    "from matplotlib import rcParams\n",
    "rcParams[\"font.size\"] = 16"
   ]
  },
  {
   "cell_type": "code",
   "execution_count": 3,
   "id": "cb1f77a1-f06c-4a66-8dc7-a77b15be6de6",
   "metadata": {},
   "outputs": [],
   "source": [
    "# path_to_data = \"/t40array/lheagy/casing-permeability\"\n",
    "directory = \"fields_halfspace\""
   ]
  },
  {
   "cell_type": "code",
   "execution_count": 4,
   "id": "db545248-c69d-4708-8826-aa0d7e72f123",
   "metadata": {},
   "outputs": [],
   "source": [
    "sigma_air = 1e-4\n",
    "sigma_back = np.r_[1]"
   ]
  },
  {
   "cell_type": "code",
   "execution_count": 5,
   "id": "9ac15a6b-0288-4b92-81c6-aba18633e84d",
   "metadata": {},
   "outputs": [],
   "source": [
    "cs = 10\n",
    "src_a = np.r_[-55, 0, -cs/2]\n",
    "src_b = np.r_[55, 0, -cs/2]"
   ]
  },
  {
   "cell_type": "code",
   "execution_count": 6,
   "id": "c761a4af-e3f6-4d4a-839c-08771a16cc93",
   "metadata": {},
   "outputs": [
    {
     "name": "stdout",
     "output_type": "stream",
     "text": [
      "1.0933200000000007\n",
      "diffusion distance [1319.11819897] m\n"
     ]
    }
   ],
   "source": [
    "nt = 20\n",
    "time_steps = [\n",
    "    (1e-6, nt), (3e-6, nt), \n",
    "    (1e-5, nt), (3e-5, nt), \n",
    "    (1e-4, nt), (3e-4, nt), \n",
    "    (1e-3, nt*2), (3e-3, nt*2),\n",
    "    (6e-3, nt*3), (1e-2, nt),\n",
    "]\n",
    "\n",
    "time_steps = discretize.utils.unpack_widths(time_steps)\n",
    "times = np.cumsum(np.hstack([np.r_[0], time_steps]))\n",
    "print(times.max())\n",
    "\n",
    "print(f\"diffusion distance {np.sqrt(2*np.max(times)/(mu_0*sigma_back))} m\")"
   ]
  },
  {
   "cell_type": "code",
   "execution_count": 57,
   "id": "2424fb3e-46b6-4526-b3ad-2377d558777c",
   "metadata": {},
   "outputs": [
    {
     "data": {
      "text/html": [
       "<table>\n",
       "  <tr>\n",
       "    <td style='font-weight: bold; font-size: 1.2em; text-align: center;' colspan='3'>TensorMesh</td>\n",
       "    <td style='font-size: 1.2em; text-align: center;'colspan='4'>53,428 cells</td>\n",
       "  </tr>\n",
       "  <tr>\n",
       "    <th></th>\n",
       "    <th></th>\n",
       "    <th colspan='2' style='padding: 5px 20px 5px 20px;'>MESH EXTENT</th>\n",
       "    <th colspan='2' style='padding: 5px 20px 5px 20px;'>CELL WIDTH</th>\n",
       "    <th style='padding: 5px 20px 5px 20px;'>FACTOR</th>\n",
       "  </tr>\n",
       "  <tr>\n",
       "    <th style='padding: 5px 20px 5px 20px;'>dir</th>\n",
       "    <th style='padding: 5px 20px 5px 20px;'>nC</th>\n",
       "    <th style='padding: 5px 20px 5px 20px;'>min</th>\n",
       "    <th style='padding: 5px 20px 5px 20px;'>max</th>\n",
       "    <th style='padding: 5px 20px 5px 20px;'>min</th>\n",
       "    <th style='padding: 5px 20px 5px 20px;'>max</th>\n",
       "    <th style='padding: 5px 20px 5px 20px;'>max</th>\n",
       "  </tr>\n",
       "  <tr>\n",
       "    <td style='padding: 5px 20px 5px 20px;'>x</td>\n",
       "    <td style='padding: 5px 20px 5px 20px;'>38</td>\n",
       "    <td style='padding: 5px 20px 5px 20px;'>-1,329.13</td>\n",
       "    <td style='padding: 5px 20px 5px 20px;'>1,329.13</td>\n",
       "    <td style='padding: 5px 20px 5px 20px;'>10.00</td>\n",
       "    <td style='padding: 5px 20px 5px 20px;'>302.88</td>\n",
       "    <td style='padding: 5px 20px 5px 20px;'>1.30</td>\n",
       "  </tr>\n",
       "  <tr>\n",
       "    <td style='padding: 5px 20px 5px 20px;'>y</td>\n",
       "    <td style='padding: 5px 20px 5px 20px;'>37</td>\n",
       "    <td style='padding: 5px 20px 5px 20px;'>-1,324.13</td>\n",
       "    <td style='padding: 5px 20px 5px 20px;'>1,324.13</td>\n",
       "    <td style='padding: 5px 20px 5px 20px;'>10.00</td>\n",
       "    <td style='padding: 5px 20px 5px 20px;'>302.88</td>\n",
       "    <td style='padding: 5px 20px 5px 20px;'>1.30</td>\n",
       "  </tr>\n",
       "  <tr>\n",
       "    <td style='padding: 5px 20px 5px 20px;'>z</td>\n",
       "    <td style='padding: 5px 20px 5px 20px;'>38</td>\n",
       "    <td style='padding: 5px 20px 5px 20px;'>-1,329.13</td>\n",
       "    <td style='padding: 5px 20px 5px 20px;'>1,329.13</td>\n",
       "    <td style='padding: 5px 20px 5px 20px;'>10.00</td>\n",
       "    <td style='padding: 5px 20px 5px 20px;'>302.88</td>\n",
       "    <td style='padding: 5px 20px 5px 20px;'>1.30</td>\n",
       "  </tr>\n",
       "</table>\n"
      ],
      "text/plain": [
       "\n",
       "  TensorMesh: 53,428 cells\n",
       "\n",
       "                      MESH EXTENT             CELL WIDTH      FACTOR\n",
       "  dir    nC        min           max         min       max      max\n",
       "  ---   ---  ---------------------------  ------------------  ------\n",
       "   x     38     -1,329.13      1,329.13     10.00    302.88    1.30\n",
       "   y     37     -1,324.13      1,324.13     10.00    302.88    1.30\n",
       "   z     38     -1,329.13      1,329.13     10.00    302.88    1.30\n"
      ]
     },
     "execution_count": 57,
     "metadata": {},
     "output_type": "execute_result"
    }
   ],
   "source": [
    "nc = 12\n",
    "npad = 13\n",
    "pf = 1.3\n",
    "hx = [(cs, npad, -pf), (cs, nc), (cs, npad, pf)]\n",
    "hy = [(cs, npad, -pf), (cs, nc-1), (cs, npad, pf)]\n",
    "hz = hx\n",
    "\n",
    "mesh = discretize.TensorMesh([hx, hy, hz], \"CCC\")\n",
    "mesh"
   ]
  },
  {
   "cell_type": "code",
   "execution_count": 58,
   "id": "3d9e8c89-58e7-4097-8622-7cd25f486a75",
   "metadata": {},
   "outputs": [],
   "source": [
    "conductivity_model = sigma_air * np.ones(mesh.n_cells)\n",
    "inds_subsurface = mesh.cell_centers[:, 2] < 0\n",
    "\n",
    "conductivity_models = {}\n",
    "\n",
    "for s in sigma_back:\n",
    "    tmp = conductivity_model.copy()\n",
    "    tmp[inds_subsurface] = s\n",
    "    conductivity_models[s] = tmp"
   ]
  },
  {
   "cell_type": "code",
   "execution_count": 59,
   "id": "9506c485-f117-4e1f-9d9c-dcd1fd050d41",
   "metadata": {},
   "outputs": [],
   "source": [
    "src_locations = np.vstack(\n",
    "    [\n",
    "        src_a, src_a+np.r_[0, 0, cs*1.5], src_b+np.r_[0, 0, cs*1.5], src_b\n",
    "    ]\n",
    ")"
   ]
  },
  {
   "cell_type": "code",
   "execution_count": 60,
   "id": "84abc38f-8ef0-43f0-a2a5-8387887a46d2",
   "metadata": {},
   "outputs": [],
   "source": [
    "src = tdem.sources.LineCurrent([], location=src_locations)\n",
    "survey = tdem.Survey([src])\n",
    "simj = tdem.simulation.Simulation3DCurrentDensity(\n",
    "    mesh=mesh, sigmaMap=maps.IdentityMap(mesh),\n",
    "    survey=survey, solver=Pardiso, time_steps=time_steps, \n",
    ")\n",
    "\n",
    "simh = tdem.simulation.Simulation3DMagneticField(\n",
    "    mesh=mesh, sigmaMap=maps.IdentityMap(mesh),\n",
    "    survey=survey, solver=Pardiso, time_steps=time_steps, \n",
    ")\n"
   ]
  },
  {
   "cell_type": "code",
   "execution_count": 61,
   "id": "c9d6b666-d76e-46cd-9061-4b55eb5e68d1",
   "metadata": {},
   "outputs": [
    {
     "name": "stdout",
     "output_type": "stream",
     "text": [
      "starting 1e+00\n"
     ]
    },
    {
     "name": "stderr",
     "output_type": "stream",
     "text": [
      "/home/lheagy/.conda/envs/casing/lib/python3.9/site-packages/pymatsolver/direct.py:23: PardisoTypeConversionWarning: Converting csc_matrix matrix to CSR format, will slow down.\n",
      "  self.solver = MKLPardisoSolver(\n",
      "/home/lheagy/.conda/envs/casing/lib/python3.9/site-packages/pymatsolver/direct.py:73: PardisoTypeConversionWarning: Converting csc_matrix matrix to CSR format, will slow down.\n",
      "  self.solver.refactor(self.A)\n"
     ]
    },
    {
     "name": "stdout",
     "output_type": "stream",
     "text": [
      " ... done. 3.42e+02 s\n"
     ]
    }
   ],
   "source": [
    "fieldsj = {}\n",
    "fieldsh = {}\n",
    "\n",
    "# mesh.save(f\"{path_to_data}/{directory}/mesh.json\")\n",
    "# np.save(f\"{path_to_data}/{directory}/times\", simj.times)\n",
    "\n",
    "for key in sigma_back: \n",
    "    t = time.time()\n",
    "    print(f\"starting {key:1.0e}\")\n",
    "    \n",
    "    fieldsj[key] = simj.fields(conductivity_models[key])\n",
    "    # np.save(f\"{path_to_data}/{directory}/fieldsj_{key}\", fieldsj[key][:, \"jSolution\", :])\n",
    "    \n",
    "    fieldsh[key] = simh.fields(conductivity_models[key])\n",
    "    # np.save(f\"{path_to_data}/{directory}/fieldsh_{key}\", fieldsh[key][:, \"hSolution\", :])\n",
    "    \n",
    "    print(f\" ... done. {time.time()-t:1.2e} s\")"
   ]
  },
  {
   "cell_type": "code",
   "execution_count": 62,
   "id": "2731e3c1-393f-4cd2-8de6-ce93065b90a9",
   "metadata": {},
   "outputs": [
    {
     "name": "stdout",
     "output_type": "stream",
     "text": [
      "[0.0000e+00 9.9000e-02 9.9000e-01 4.9200e+00 1.0020e+01 3.0320e+01\n",
      " 1.0032e+02]\n"
     ]
    }
   ],
   "source": [
    "time_inds = [\n",
    "    0,\n",
    "#     1, \n",
    "#     3, \n",
    "#     10, \n",
    "#     30, \n",
    "    53, \n",
    "    # 78, \n",
    "    109,\n",
    "    # 137,\n",
    "    152,\n",
    "    169,\n",
    "    197,\n",
    "    # 207,\n",
    "    # 212,\n",
    "    # 227,\n",
    "    249,\n",
    "] \n",
    "print(times[time_inds] * 1e3)"
   ]
  },
  {
   "cell_type": "code",
   "execution_count": 63,
   "id": "964e6857-0b4e-43d4-8177-6d2d8b9abc3e",
   "metadata": {},
   "outputs": [],
   "source": [
    "def get_grid_loc(fieldtype):\n",
    "    return \"E\" if fieldtype in [\"h\", \"b\", \"dhdt\", \"dbdt\"] else \"F\" "
   ]
  },
  {
   "cell_type": "code",
   "execution_count": 64,
   "id": "725cad36-2b42-495e-a67e-7ccd8e880be7",
   "metadata": {},
   "outputs": [],
   "source": [
    "def get_fields_components(fieldsobject, key, fieldtype):\n",
    "    grid_loc = get_grid_loc(fieldtype)\n",
    "    n_per_direction = mesh.n_edges_per_direction if fieldtype in [\"h\", \"b\", \"dhdt\", \"dbdt\"] else mesh.n_faces_per_direction\n",
    "    \n",
    "    fieldplot = fieldsobject[key][:, fieldtype, ti]\n",
    "    fieldxplot = fieldplot[:n_per_direction[0]]\n",
    "    fieldyplot = fieldplot[n_per_direction[0]:sum(n_per_direction[:2])]\n",
    "    fieldzplot = fieldplot[sum(n_per_direction[:2]):]\n",
    "    \n",
    "    return discretize.utils.mkvc(fieldxplot), discretize.utils.mkvc(fieldyplot), discretize.utils.mkvc(fieldzplot)\n",
    "    "
   ]
  },
  {
   "cell_type": "code",
   "execution_count": 65,
   "id": "6d415cd3-0e81-44dd-b451-3a86399db64a",
   "metadata": {},
   "outputs": [],
   "source": [
    "# view h for two models at time ti\n",
    "ti = time_inds[0]\n",
    "\n",
    "def plot_field_time(ti=0, fieldtype=\"h\", fieldsobject=fieldsh, fieldsobject2=None, view=\"total\", clim=None, ind=19, xlim=(src_b[0] + 5*cs)*np.r_[-1, 1]):\n",
    "    fig, ax = plt.subplots(len(sigma_back), 3, sharex=True, sharey=True, figsize=(11,2.5*len(sigma_back)))   \n",
    "    grid_loc = get_grid_loc(fieldtype)\n",
    "    eps = 1e-10\n",
    "    ax=np.atleast_2d(ax)\n",
    "    \n",
    "    for j, key in enumerate(sigma_back): \n",
    "        plotx, ploty, plotz = get_fields_components(fieldsobject, key, fieldtype)\n",
    "        \n",
    "        if view in [\"difference\", \"percent\"]:\n",
    "            fieldsxplot2, fieldsyplot2, fieldszplot2 = get_fields_components(fieldsobject2, key, fieldtype)\n",
    "            plotx = plotx - fieldsxplot2\n",
    "            ploty = ploty - fieldsyplot2\n",
    "            plotz = plotz - fieldszplot2\n",
    "            if view == \"percent\":\n",
    "                plotx = plotx / (np.abs(fieldsxplot2) + eps) * 100\n",
    "                ploty = ploty / (np.abs(fieldsyplot2) + eps) * 100\n",
    "                plotz = plotz / (np.abs(fieldszplot2) + eps) * 100\n",
    "        \n",
    "        if clim is None: \n",
    "            vmin = np.min(np.hstack([plotx, ploty, plotz]))\n",
    "            vmax = np.max(np.hstack([plotx, ploty, plotz]))\n",
    "            pcolor_opts = {\"norm\":Normalize(vmin=vmin, vmax=vmax)}\n",
    "        else: \n",
    "            pcolor_opts = {\"norm\":Normalize(vmin=clim.min(), vmax=clim.max())}\n",
    "\n",
    "        mesh.plot_slice(plotx, f\"{grid_loc}x\", normal=\"z\", ax=ax[j, 0], ind=ind, pcolor_opts=pcolor_opts)\n",
    "        mesh.plot_slice(ploty, f\"{grid_loc}y\", normal=\"z\", ax=ax[j, 1], ind=ind, pcolor_opts=pcolor_opts)\n",
    "        plt.colorbar(\n",
    "            mesh.plot_slice(plotz, f\"{grid_loc}z\", normal=\"z\", ax=ax[j, 2], ind=ind, pcolor_opts=pcolor_opts)[0],\n",
    "            ax=ax[j, 2]\n",
    "        )\n",
    "\n",
    "    ax[0, 0].set_xlim(xlim)\n",
    "    ax[0, 0].set_ylim(xlim)\n",
    "\n",
    "    for a in ax.flatten():\n",
    "        a.set_aspect(1)\n",
    "        a.set_title(\"\")\n",
    "        a.set_xlabel(\"\")\n",
    "        a.set_ylabel(\"\")\n",
    "\n",
    "    for a, comp in zip(ax[0, :], [\"x\", \"y\", \"z\"]):\n",
    "        if comp != \"z\":\n",
    "            zloc = mesh.nodes_z[ind] if grid_loc == \"E\" else mesh.cell_centers_z[ind]\n",
    "        else:\n",
    "            zloc = mesh.cell_centers_z[ind] if grid_loc == \"E\" else mesh.nodes_z[ind]\n",
    "        a.set_title(f\"{fieldtype}{comp}, z={zloc}m\")\n",
    "    return ax"
   ]
  },
  {
   "cell_type": "code",
   "execution_count": 66,
   "id": "9e48d3ec-df9c-4699-80eb-a2f38c1e0de4",
   "metadata": {},
   "outputs": [
    {
     "name": "stdout",
     "output_type": "stream",
     "text": [
      "1e+00 ms\n"
     ]
    },
    {
     "data": {
      "image/png": "[encoded data removed]",
      "text/plain": [
       "<Figure size 792x180 with 4 Axes>"
      ]
     },
     "metadata": {
      "needs_background": "light"
     },
     "output_type": "display_data"
    }
   ],
   "source": [
    "ti = time_inds[2]\n",
    "print(f\"{simh.times[ti]*1e3:1.0e} ms\")\n",
    "plot_field_time(ti, \"dhdt\", fieldsh);"
   ]
  },
  {
   "cell_type": "code",
   "execution_count": 67,
   "id": "d85f6779-f0fd-4a76-840c-a643f696863a",
   "metadata": {},
   "outputs": [
    {
     "name": "stdout",
     "output_type": "stream",
     "text": [
      "1e+00 ms\n"
     ]
    },
    {
     "data": {
      "image/png": "[encoded data removed]",
      "text/plain": [
       "<Figure size 792x180 with 4 Axes>"
      ]
     },
     "metadata": {
      "needs_background": "light"
     },
     "output_type": "display_data"
    }
   ],
   "source": [
    "ti = time_inds[2]\n",
    "print(f\"{simh.times[ti]*1e3:1.0e} ms\")\n",
    "plot_field_time(ti,\"dhdt\", fieldsj);"
   ]
  },
  {
   "cell_type": "code",
   "execution_count": 68,
   "id": "3b2a2d28-9381-4f7c-92d6-327a91b87dde",
   "metadata": {},
   "outputs": [
    {
     "name": "stdout",
     "output_type": "stream",
     "text": [
      "1e+00 ms\n"
     ]
    },
    {
     "data": {
      "image/png": "[encoded data removed]",
      "text/plain": [
       "<Figure size 792x180 with 4 Axes>"
      ]
     },
     "metadata": {
      "needs_background": "light"
     },
     "output_type": "display_data"
    }
   ],
   "source": [
    "ti = time_inds[2]\n",
    "print(f\"{simh.times[ti]*1e3:1.0e} ms\")\n",
    "plot_field_time(ti, \"dhdt\", fieldsh, fieldsj, \"difference\", clim=2e-4*np.r_[-1, 1], xlim=200*np.r_[-1, 1]);"
   ]
  },
  {
   "cell_type": "code",
   "execution_count": 69,
   "id": "702b62e8-e274-4005-8581-8f933f6ccc40",
   "metadata": {},
   "outputs": [
    {
     "name": "stdout",
     "output_type": "stream",
     "text": [
      "1e+00 ms\n"
     ]
    },
    {
     "data": {
      "image/png": "[encoded data removed]",
      "text/plain": [
       "<Figure size 792x180 with 4 Axes>"
      ]
     },
     "metadata": {
      "needs_background": "light"
     },
     "output_type": "display_data"
    }
   ],
   "source": [
    "ti = time_inds[2]\n",
    "print(f\"{simh.times[ti]*1e3:1.0e} ms\")\n",
    "plot_field_time(ti, \"dhdt\", fieldsh, fieldsj, \"percent\", clim=1*np.r_[-1, 1], xlim=200*np.r_[-1, 1]);"
   ]
  },
  {
   "cell_type": "code",
   "execution_count": 70,
   "id": "dfe96fa5-396a-4c5c-863f-985a81fe1acf",
   "metadata": {},
   "outputs": [
    {
     "name": "stdout",
     "output_type": "stream",
     "text": [
      "1e+00 ms\n"
     ]
    },
    {
     "data": {
      "image/png": "[encoded data removed]",
      "text/plain": [
       "<Figure size 792x180 with 4 Axes>"
      ]
     },
     "metadata": {
      "needs_background": "light"
     },
     "output_type": "display_data"
    }
   ],
   "source": [
    "ti = time_inds[2]\n",
    "print(f\"{simh.times[ti]*1e3:1.0e} ms\")\n",
    "plot_field_time(ti, \"j\", fieldsh, ind=12, xlim=200*np.r_[-1, 1]);"
   ]
  },
  {
   "cell_type": "code",
   "execution_count": 71,
   "id": "1cd1c095-4753-4afb-be22-1fbfdcc6c9c7",
   "metadata": {},
   "outputs": [
    {
     "name": "stdout",
     "output_type": "stream",
     "text": [
      "1e+00 ms\n"
     ]
    },
    {
     "data": {
      "image/png": "[encoded data removed]",
      "text/plain": [
       "<Figure size 792x180 with 4 Axes>"
      ]
     },
     "metadata": {
      "needs_background": "light"
     },
     "output_type": "display_data"
    }
   ],
   "source": [
    "ti = time_inds[2]\n",
    "print(f\"{simh.times[ti]*1e3:1.0e} ms\")\n",
    "plot_field_time(ti, \"j\", fieldsj, ind=12, xlim=200*np.r_[-1, 1]);"
   ]
  },
  {
   "cell_type": "code",
   "execution_count": 72,
   "id": "a656463e-0f3e-4956-b18c-5280c5302092",
   "metadata": {},
   "outputs": [
    {
     "name": "stdout",
     "output_type": "stream",
     "text": [
      "1e+00 ms\n"
     ]
    },
    {
     "data": {
      "image/png": "[encoded data removed]",
      "text/plain": [
       "<Figure size 792x180 with 4 Axes>"
      ]
     },
     "metadata": {
      "needs_background": "light"
     },
     "output_type": "display_data"
    }
   ],
   "source": [
    "ti = time_inds[2]\n",
    "print(f\"{simh.times[ti]*1e3:1.0e} ms\")\n",
    "plot_field_time(ti, \"j\", fieldsh, fieldsj, \"difference\", xlim=200*np.r_[-1, 1], clim=1e-7*np.r_[-1, 1], ind=12);"
   ]
  },
  {
   "cell_type": "code",
   "execution_count": 73,
   "id": "79d36359-cef1-43b4-9ce2-8fa1e6029830",
   "metadata": {},
   "outputs": [
    {
     "name": "stdout",
     "output_type": "stream",
     "text": [
      "1e+00 ms\n"
     ]
    },
    {
     "data": {
      "image/png": "[encoded data removed]",
      "text/plain": [
       "<Figure size 792x180 with 4 Axes>"
      ]
     },
     "metadata": {
      "needs_background": "light"
     },
     "output_type": "display_data"
    }
   ],
   "source": [
    "ti = time_inds[2]\n",
    "print(f\"{simh.times[ti]*1e3:1.0e} ms\")\n",
    "plot_field_time(ti, \"j\", fieldsh, fieldsj, \"percent\", xlim=200*np.r_[-1, 1], clim=5*np.r_[-1, 1], ind=12);"
   ]
  },
  {
   "cell_type": "code",
   "execution_count": 74,
   "id": "cdbc2e8d-8a19-4e71-96c2-7f443399d06c",
   "metadata": {},
   "outputs": [],
   "source": [
    "# np.linalg.norm(fieldsj[key][:, \"dhdt\", tind])"
   ]
  },
  {
   "cell_type": "code",
   "execution_count": null,
   "id": "a5dff3fe-5c18-483c-b96d-f90086511e41",
   "metadata": {},
   "outputs": [],
   "source": []
  }
 ],
 "metadata": {
  "kernelspec": {
   "display_name": "Python 3 (ipykernel)",
   "language": "python",
   "name": "python3"
  },
  "language_info": {
   "codemirror_mode": {
    "name": "ipython",
    "version": 3
   },
   "file_extension": ".py",
   "mimetype": "text/x-python",
   "name": "python",
   "nbconvert_exporter": "python",
   "pygments_lexer": "ipython3",
   "version": "3.9.13"
  }
 },
 "nbformat": 4,
 "nbformat_minor": 5
}
