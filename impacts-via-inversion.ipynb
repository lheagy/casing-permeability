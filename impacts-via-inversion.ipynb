{
 "cells": [
  {
   "cell_type": "markdown",
   "id": "413c6615-6360-477e-8871-254c0973cf51",
   "metadata": {},
   "source": [
    "## Implications of ignoring permeability -- some inversions"
   ]
  },
  {
   "cell_type": "code",
   "execution_count": 1,
   "id": "1ffd085d-0b8d-4ee7-8714-13e5ca2ae70c",
   "metadata": {},
   "outputs": [],
   "source": [
    "import numpy as np\n",
    "import scipy.sparse as sp\n",
    "from scipy.constants import mu_0\n",
    "import matplotlib.pyplot as plt\n",
    "from matplotlib.colors import LogNorm, LinearSegmentedColormap, Normalize\n",
    "from matplotlib import cm as colormap\n",
    "import time\n",
    "from string import ascii_lowercase\n",
    "\n",
    "# SimPEG, discretize/\n",
    "import discretize\n",
    "from SimPEG.electromagnetics import time_domain as tdem\n",
    "from SimPEG import (\n",
    "    maps, Report, data_misfit, regularization, \n",
    "    optimization, inverse_problem, \n",
    "    inversion, directives\n",
    ")\n",
    "from pymatsolver import Pardiso\n",
    "\n",
    "# casing utility code \n",
    "import casingSimulations as casing_sim\n",
    "import utils"
   ]
  },
  {
   "cell_type": "code",
   "execution_count": 2,
   "id": "2e86710e-da06-4439-a5f5-75140fce787f",
   "metadata": {},
   "outputs": [],
   "source": [
    "path_to_data = \"/t40array/lheagy/casing-permeability\"\n",
    "directory = f\"{path_to_data}/fields_permeability\""
   ]
  },
  {
   "cell_type": "code",
   "execution_count": 3,
   "id": "955bb13f-0933-4dc2-a40a-c1b0161837d8",
   "metadata": {},
   "outputs": [],
   "source": [
    "mesh = discretize.load_mesh(f\"{directory}/mesh.json\")\n",
    "times = np.load(f\"{directory}/times.npy\")"
   ]
  },
  {
   "cell_type": "code",
   "execution_count": 4,
   "id": "07db57fe-0599-46fe-aad5-d60925b4da98",
   "metadata": {},
   "outputs": [],
   "source": [
    "# conductivities\n",
    "sigma_air = 1e-4\n",
    "sigma_back = 1e-1\n",
    "sigma_casing = 5e6\n",
    "mur_casing = np.r_[1, 50, 100, 150, 200]\n",
    "\n",
    "# casing geometry\n",
    "casing_b = 5e-2  \n",
    "casing_t = 10e-3\n",
    "casing_a = casing_b - casing_t\n",
    "casing_l = 500"
   ]
  },
  {
   "cell_type": "code",
   "execution_count": 5,
   "id": "7e34b436-6c4a-4b71-b4ee-f1f711a74ebb",
   "metadata": {},
   "outputs": [],
   "source": [
    "return_electrode_r = 500\n",
    "src_a = np.r_[casing_a+casing_t/2, 0, 0]\n",
    "src_b = np.r_[return_electrode_r, 0., 0.]"
   ]
  },
  {
   "cell_type": "code",
   "execution_count": 6,
   "id": "692bc3b8-9e49-445f-ae94-4c715655a8c0",
   "metadata": {},
   "outputs": [],
   "source": [
    "inds_casing = utils.get_casing_inds(mesh, casing_a, casing_b, casing_l)"
   ]
  },
  {
   "cell_type": "code",
   "execution_count": 7,
   "id": "83dac28e-b9e5-4d87-8717-6746c260444b",
   "metadata": {},
   "outputs": [],
   "source": [
    "halfspace_conductivity = sigma_back * np.ones(mesh.n_cells)\n",
    "halfspace_conductivity[mesh.cell_centers[:, 2] > 0] = sigma_air\n",
    "\n",
    "casing_conductivity = halfspace_conductivity.copy()\n",
    "casing_conductivity[inds_casing] = sigma_casing\n",
    "\n",
    "casing_mur_models = {\n",
    "}\n",
    "\n",
    "keys = [f\"casing_{mur}\" for mur in mur_casing]\n",
    "for key, mur in zip(keys, mur_casing): \n",
    "    casing_mur = np.ones(mesh.n_cells)\n",
    "    casing_mur[inds_casing] = mur\n",
    "    casing_mur_models[key] = casing_mur"
   ]
  },
  {
   "cell_type": "markdown",
   "id": "d338de18-cdb6-438b-b5a8-0130b90be6cf",
   "metadata": {},
   "source": [
    "## load fields, create simulation"
   ]
  },
  {
   "cell_type": "code",
   "execution_count": 8,
   "id": "547f93d0-7a42-47d3-b15e-8bd32723c464",
   "metadata": {},
   "outputs": [],
   "source": [
    "# top casing source \n",
    "src_theta = np.pi / 2. + mesh.h[1][0]/2.\n",
    "src_a = np.r_[casing_b - mesh.h[0].min()/2, src_theta, -mesh.h[2].min()/2]\n",
    "src_b = np.r_[return_electrode_r, src_theta, -mesh.h[2].min()/2]\n",
    "src_locations = np.vstack(\n",
    "    [\n",
    "        src_a, src_a+np.r_[0, 0, mesh.h[2].min()*1.5], src_b+np.r_[0, 0, mesh.h[2].min()*1.5], src_b\n",
    "    ]\n",
    ")"
   ]
  },
  {
   "cell_type": "code",
   "execution_count": 9,
   "id": "35605b82-e7c2-483e-bf47-47e0683252c7",
   "metadata": {},
   "outputs": [
    {
     "name": "stdout",
     "output_type": "stream",
     "text": [
      "37 0.00010500000000000007 1.0433200000000007\n"
     ]
    }
   ],
   "source": [
    "rx_x = mesh.cell_centers_x[50:78]\n",
    "rx_y = mesh.cell_centers_y[0]\n",
    "rx_z = np.r_[-0.1] # just below the surface\n",
    "\n",
    "rx_locs = discretize.utils.ndgrid([rx_x, rx_y, rx_z])\n",
    "\n",
    "rx_times = times[55::10]\n",
    "print(len(rx_times), rx_times.min(), rx_times.max())"
   ]
  },
  {
   "cell_type": "code",
   "execution_count": 10,
   "id": "9de197fe-5fbb-44d4-a555-ce622de3a4fa",
   "metadata": {},
   "outputs": [],
   "source": [
    "rx = tdem.receivers.PointElectricField(\n",
    "    locations=rx_locs, orientation=\"x\", times=rx_times\n",
    ")\n",
    "src = tdem.sources.LineCurrent([rx], location=src_locations)\n",
    "survey = tdem.Survey([src])\n",
    "sim = tdem.simulation.Simulation3DCurrentDensity(\n",
    "    mesh=mesh, sigmaMap=maps.IdentityMap(mesh),\n",
    "    survey=survey, solver=Pardiso, time_steps=np.diff(times), \n",
    "#     verbose=True\n",
    ")\n"
   ]
  },
  {
   "cell_type": "code",
   "execution_count": 11,
   "id": "2bede9b0-344e-48df-b5db-d0b760ed275c",
   "metadata": {},
   "outputs": [
    {
     "data": {
      "text/plain": [
       "True"
      ]
     },
     "execution_count": 11,
     "metadata": {},
     "output_type": "execute_result"
    }
   ],
   "source": [
    "np.all(sim.times == times)"
   ]
  },
  {
   "cell_type": "code",
   "execution_count": 12,
   "id": "8ad50cb8-5181-4598-84f7-201c1dc56087",
   "metadata": {},
   "outputs": [
    {
     "data": {
      "text/plain": [
       "['casing_1', 'casing_50', 'casing_100', 'casing_150', 'casing_200']"
      ]
     },
     "execution_count": 12,
     "metadata": {},
     "output_type": "execute_result"
    }
   ],
   "source": [
    "keys"
   ]
  },
  {
   "cell_type": "code",
   "execution_count": 13,
   "id": "188ae497-3db7-4084-93a0-d334b48991af",
   "metadata": {},
   "outputs": [
    {
     "name": "stderr",
     "output_type": "stream",
     "text": [
      "/home/lheagy/git/simpeg/discretize/discretize/utils/code_utils.py:182: FutureWarning: CylindricalMesh.edgeCurl has been deprecated, please use CylindricalMesh.edge_curl. It will be removed in version 1.0.0 of discretize.\n",
      "  warnings.warn(message, Warning)\n"
     ]
    }
   ],
   "source": [
    "fields = {}\n",
    "for key in keys:\n",
    "    fields[key] = utils.load_fields(\n",
    "        f\"{directory}/fields_casing_{key.split('_')[-1]}\", sim, \n",
    "        casing_conductivity, casing_mur_models[key]*mu_0\n",
    "    )"
   ]
  },
  {
   "cell_type": "code",
   "execution_count": 14,
   "id": "cab6b3d9-e1bd-4bc0-adc7-9434b3c5c3a7",
   "metadata": {},
   "outputs": [
    {
     "name": "stderr",
     "output_type": "stream",
     "text": [
      "/home/lheagy/git/simpeg/discretize/discretize/utils/code_utils.py:217: FutureWarning: CylindricalMesh.getInterpolationMat has been deprecated, please use CylindricalMesh.get_interpolation_matrix. It will be removed in version 1.0.0 of discretize.\n",
      "  warnings.warn(\n",
      "/home/lheagy/git/simpeg/discretize/discretize/utils/code_utils.py:217: FutureWarning: TensorMesh.getInterpolationMat has been deprecated, please use TensorMesh.get_interpolation_matrix. It will be removed in version 1.0.0 of discretize.\n",
      "  warnings.warn(\n"
     ]
    }
   ],
   "source": [
    "dobs = {}\n",
    "for key, f in fields.items():\n",
    "    sim.mu = casing_mur_models[key] * mu_0\n",
    "    dobs[key] = sim.make_synthetic_data(\n",
    "        casing_conductivity, relative_error=0.05, noise_floor=1e-8,\n",
    "        f=f, add_noise=False\n",
    "    )"
   ]
  },
  {
   "cell_type": "code",
   "execution_count": 15,
   "id": "fbe2f7ed-7bc9-429d-baa4-3e2cb2d2e899",
   "metadata": {},
   "outputs": [
    {
     "name": "stdout",
     "output_type": "stream",
     "text": [
      "1036\n"
     ]
    }
   ],
   "source": [
    "val = dobs[keys[0]]\n",
    "print(val.nD)"
   ]
  },
  {
   "cell_type": "code",
   "execution_count": 16,
   "id": "7c51a0b5-dc1a-4ff1-b727-3185d27a8df5",
   "metadata": {},
   "outputs": [
    {
     "data": {
      "text/plain": [
       "Text(0.5, 0, 'time (ms)')"
      ]
     },
     "execution_count": 16,
     "metadata": {},
     "output_type": "execute_result"
    },
    {
     "data": {
      "image/png": "[encoded data removed]",
      "text/plain": [
       "<Figure size 504x288 with 1 Axes>"
      ]
     },
     "metadata": {
      "needs_background": "light"
     },
     "output_type": "display_data"
    }
   ],
   "source": [
    "fig, ax = plt.subplots(1, 1, figsize=(7, 4))\n",
    "\n",
    "spatial_ind = 8\n",
    "\n",
    "for key, val in dobs.items():\n",
    "    d = val.dobs.reshape(len(rx_x), len(rx_times), order=\"F\")\n",
    "    ax.loglog(rx_times*1e3, np.abs(d[spatial_ind, :]), \"-o\", label=key)\n",
    "ax.grid(alpha=0.5)\n",
    "ax.set_title(f\"{rx_x[spatial_ind]:1.1f}m\")\n",
    "ax.set_xlabel(\"time (ms)\")"
   ]
  },
  {
   "cell_type": "markdown",
   "id": "0e16c345-f33c-4a99-9a0d-bf19b242126c",
   "metadata": {},
   "source": [
    "# example 1: impacts on casing integrity estimation\n",
    "\n",
    "- take mu0 = 150, see what we recover for length\n",
    "- parametric casing & layer \n",
    "```\n",
    "m = [\n",
    "     val_background,\n",
    "     val_layer,\n",
    "     val_casing,\n",
    "     val_insideCasing,\n",
    "     layer_center,\n",
    "     layer_thickness,\n",
    "     casing_radius,\n",
    "     casing_thickness,\n",
    "     casing_bottom,\n",
    "     casing_top\n",
    "]\n",
    "```"
   ]
  },
  {
   "cell_type": "code",
   "execution_count": 17,
   "id": "e0005d50-5895-4f91-bf9c-5ef5759ba07f",
   "metadata": {},
   "outputs": [
    {
     "name": "stdout",
     "output_type": "stream",
     "text": [
      "137280\n"
     ]
    },
    {
     "name": "stderr",
     "output_type": "stream",
     "text": [
      "/home/lheagy/git/simpeg/discretize/discretize/utils/code_utils.py:247: FutureWarning: meshTensor has been deprecated, please use unpack_widths. It will be removed in version 1.0.0 of discretize.\n",
      "  warnings.warn(\n"
     ]
    }
   ],
   "source": [
    "csz = 5\n",
    "npadz = 15\n",
    "pf = 1.5\n",
    "\n",
    "hx = casing_sim.mesh.pad_for_casing_and_data(\n",
    "    casing_b,\n",
    "    csx1=casing_t/4., \n",
    "    npadx=11,\n",
    "    csx2=25,\n",
    "    domain_x=return_electrode_r\n",
    ")\n",
    "\n",
    "# Theta discretization\n",
    "ny = 12\n",
    "hy = np.ones(12)\n",
    "hy = hy*2*np.pi / hy.sum()\n",
    "\n",
    "# vertical discretization\n",
    "ncz = casing_l/csz\n",
    "hz = discretize.utils.unpack_widths([(csz, npadz, -pf), (csz, ncz), (csz, npadz, pf)])\n",
    "\n",
    "# create the mesh\n",
    "inv_mesh = discretize.CylindricalMesh([hx, hy, hz], x0=np.r_[0,0,-hz[:-npadz].sum()])\n",
    "print(inv_mesh.n_cells)"
   ]
  },
  {
   "cell_type": "code",
   "execution_count": 18,
   "id": "5c8d6b31-e199-4a95-9028-022e4a19d80e",
   "metadata": {},
   "outputs": [
    {
     "data": {
      "text/plain": [
       "[<PolarAxesSubplot:>, <AxesSubplot:xlabel='x', ylabel='z'>]"
      ]
     },
     "execution_count": 18,
     "metadata": {},
     "output_type": "execute_result"
    },
    {
     "data": {
      "image/png": "[encoded data removed]",
      "text/plain": [
       "<Figure size 864x360 with 2 Axes>"
      ]
     },
     "metadata": {
      "needs_background": "light"
     },
     "output_type": "display_data"
    }
   ],
   "source": [
    "inv_mesh.plot_grid()"
   ]
  },
  {
   "cell_type": "code",
   "execution_count": 19,
   "id": "e303fcb2-676e-46f0-af7e-a2f6569be3c9",
   "metadata": {},
   "outputs": [],
   "source": [
    "active_inds_casing_model = np.zeros(10, dtype=bool)\n",
    "active_inds_casing_model[8] = True\n",
    "parametric_casing_model = np.r_[\n",
    "    np.log(sigma_back), np.log(sigma_back), \n",
    "    np.log(sigma_casing), np.log(sigma_back), \n",
    "    np.r_[-20], np.r_[1],\n",
    "    (casing_a+casing_b)/2, casing_t, -casing_l, np.r_[0]\n",
    "]\n",
    "subsurface_cells = inv_mesh.cell_centers[:, 2] < 0\n",
    "\n",
    "active_model_params = maps.InjectActiveCells(\n",
    "    inv_mesh, indActive=active_inds_casing_model, \n",
    "    valInactive=parametric_casing_model[~active_inds_casing_model],\n",
    "    nC=10\n",
    ")\n",
    "casing_map = maps.ParametricCasingAndLayer(\n",
    "    inv_mesh, indActive=subsurface_cells, slope=1e5\n",
    ")\n",
    "inject_air_cells = maps.InjectActiveCells(\n",
    "    inv_mesh, indActive=subsurface_cells, valInactive=np.log(sigma_air)\n",
    ")\n",
    "exp_map = maps.ExpMap(inv_mesh)\n",
    "\n",
    "casing_integrity_mapping = exp_map * inject_air_cells * casing_map * active_model_params"
   ]
  },
  {
   "cell_type": "code",
   "execution_count": 20,
   "id": "4a0d91f3-95a3-4153-9214-6ae54be45b64",
   "metadata": {},
   "outputs": [
    {
     "name": "stdout",
     "output_type": "stream",
     "text": [
      "4999836.609391265\n"
     ]
    }
   ],
   "source": [
    "sigma_test = casing_integrity_mapping * np.r_[-casing_l]\n",
    "sigma_test.max()\n",
    "\n",
    "active_model_params.valInactive[2] = np.log(sigma_casing * (sigma_casing / sigma_test.max()))\n",
    "test = casing_integrity_mapping * np.r_[-casing_l]\n",
    "print(test.max())"
   ]
  },
  {
   "cell_type": "code",
   "execution_count": 21,
   "id": "f922e167-fde0-4929-a284-4f4ddf413193",
   "metadata": {},
   "outputs": [
    {
     "name": "stdout",
     "output_type": "stream",
     "text": [
      "Testing ComboMap[ComboMap[ComboMap[ExpMap(137280,137280) * InjectActiveCells(137280,121440)](137280,121440) * ParametricCasingAndLayer(121440,10)](137280,10) * InjectActiveCells(10,1)](137280,1)\n",
      "==================== checkDerivative ====================\n",
      "iter    h         |ft-f0|   |ft-f0-h*J0*dx|  Order\n",
      "---------------------------------------------------------\n"
     ]
    },
    {
     "name": "stderr",
     "output_type": "stream",
     "text": [
      "/home/lheagy/git/simpeg/discretize/discretize/utils/code_utils.py:247: FutureWarning: checkDerivative has been deprecated, please use check_derivative. It will be removed in version 1.0.0 of discretize.\n",
      "  warnings.warn(\n"
     ]
    },
    {
     "name": "stdout",
     "output_type": "stream",
     "text": [
      " 0   1.00e-01    1.114e+00     1.590e-03      nan\n",
      " 1   1.00e-02    1.115e-01     1.607e-05      1.995\n",
      " 2   1.00e-03    1.115e-02     7.098e-07      1.355\n",
      " 3   1.00e-04    1.115e-03     6.670e-07      0.027\n",
      "*********************************************************\n",
      "<<<<<<<<<<<<<<<<<<<<<<<<< FAIL! >>>>>>>>>>>>>>>>>>>>>>>>>\n",
      "*********************************************************\n",
      "It might be easier to call this a feature...\n",
      "\n"
     ]
    },
    {
     "data": {
      "text/plain": [
       "False"
      ]
     },
     "execution_count": 21,
     "metadata": {},
     "output_type": "execute_result"
    }
   ],
   "source": [
    "casing_integrity_mapping.test(np.r_[-casing_l])"
   ]
  },
  {
   "cell_type": "code",
   "execution_count": 22,
   "id": "e833fc08-9877-43d8-867e-c440d622eb73",
   "metadata": {},
   "outputs": [
    {
     "name": "stderr",
     "output_type": "stream",
     "text": [
      "/home/lheagy/git/simpeg/discretize/discretize/base/base_tensor_mesh.py:1025: FutureWarning: hx has been deprecated, please access as mesh.h[0]\n",
      "  warnings.warn(\n",
      "/home/lheagy/git/simpeg/discretize/discretize/base/base_tensor_mesh.py:1059: FutureWarning: hz has been deprecated, please access as mesh.h[2]\n",
      "  warnings.warn(\n",
      "/home/lheagy/git/simpeg/discretize/discretize/utils/code_utils.py:140: FutureWarning: CylMesh has been deprecated, please use CylindricalMesh. It will be removed in version 1.0.0 of discretize.\n",
      "  warnings.warn(message, Warning)\n",
      "/home/lheagy/git/simpeg/discretize/discretize/utils/code_utils.py:182: FutureWarning: CylindricalMesh.isSymmetric has been deprecated, please use CylindricalMesh.is_symmetric. It will be removed in version 1.0.0 of discretize.\n",
      "  warnings.warn(message, Warning)\n",
      "/home/lheagy/git/simpeg/discretize/discretize/utils/code_utils.py:217: FutureWarning: CylMesh.plotImage has been deprecated, please use CylMesh.plot_image. It will be removed in version 1.0.0 of discretize.\n",
      "  warnings.warn(\n"
     ]
    },
    {
     "data": {
      "text/plain": [
       "(-700.0, 50.0)"
      ]
     },
     "execution_count": 22,
     "metadata": {},
     "output_type": "execute_result"
    },
    {
     "data": {
      "image/png": "[encoded data removed]",
      "text/plain": [
       "<Figure size 288x360 with 2 Axes>"
      ]
     },
     "metadata": {
      "needs_background": "light"
     },
     "output_type": "display_data"
    }
   ],
   "source": [
    "xlim = 0.22*np.r_[-1, 1]\n",
    "zlim = np.r_[-700, 50]\n",
    "pcolor_opts={\"norm\":LogNorm(vmin=sigma_air, vmax=sigma_casing), \"cmap\":\"Spectral_r\"}\n",
    "\n",
    "fig, ax = plt.subplots(1, 1, figsize=(4, 5))\n",
    "out = casing_sim.view.plot_slice(\n",
    "    inv_mesh, sigma_test, pcolor_opts=pcolor_opts, ax=ax\n",
    ")\n",
    "ax.set_xlim(xlim)\n",
    "ax.set_ylim(zlim)"
   ]
  },
  {
   "cell_type": "code",
   "execution_count": 23,
   "id": "98c64863-810d-458a-8e80-902252718ab5",
   "metadata": {},
   "outputs": [],
   "source": [
    "class SaveInversionProgress(directives.InversionDirective):\n",
    "    \"\"\"\n",
    "    A custom directive to save items of interest during the course of an inversion\n",
    "    \"\"\"\n",
    "    \n",
    "    def initialize(self):\n",
    "        \"\"\"\n",
    "        This is called when we first start running an inversion\n",
    "        \"\"\"\n",
    "        # initialize an empty dictionary for storing results \n",
    "        self.inversion_results = {\n",
    "            \"iteration\":[0],\n",
    "            \"phi_d\":[self.invProb.phi_d],\n",
    "            \"dpred\":[np.nan * np.ones(inv.invProb.dmisfit.nD)],\n",
    "            \"model\":[self.invProb.model]\n",
    "        }\n",
    "\n",
    "    def endIter(self):\n",
    "        \"\"\"\n",
    "        This is run at the end of every iteration. So here, we just append \n",
    "        the new values to our dictionary\n",
    "        \"\"\"\n",
    "        \n",
    "        # Save the data\n",
    "        self.inversion_results[\"iteration\"].append(self.opt.iter)\n",
    "        self.inversion_results[\"phi_d\"].append(self.invProb.phi_d)\n",
    "        self.inversion_results[\"dpred\"].append(self.invProb.dpred)\n",
    "        self.inversion_results[\"model\"].append(self.invProb.model)"
   ]
  },
  {
   "cell_type": "code",
   "execution_count": 24,
   "id": "19166c99-7967-4c50-9705-e362339cc27d",
   "metadata": {},
   "outputs": [],
   "source": [
    "inv_simulation = tdem.simulation.Simulation3DCurrentDensity(\n",
    "    mesh=inv_mesh, sigmaMap=casing_integrity_mapping,\n",
    "    survey=survey, solver=Pardiso, time_steps=np.diff(times), \n",
    ")\n",
    "\n",
    "key = \"casing_150\"\n",
    "dmis = data_misfit.L2DataMisfit(dobs[key], inv_simulation)"
   ]
  },
  {
   "cell_type": "code",
   "execution_count": 25,
   "id": "620807fa-c426-4158-8ae3-95c820f5c09b",
   "metadata": {},
   "outputs": [
    {
     "data": {
      "text/plain": [
       "44423.818382140314"
      ]
     },
     "execution_count": 25,
     "metadata": {},
     "output_type": "execute_result"
    }
   ],
   "source": [
    "r = (dobs[key].dobs - dobs[\"casing_1\"].dobs)\n",
    "Wr = dmis.W * r\n",
    "Wr.dot(Wr)"
   ]
  },
  {
   "cell_type": "code",
   "execution_count": 26,
   "id": "c81e012e-fc70-4e1a-a0d7-c0698d14c775",
   "metadata": {},
   "outputs": [
    {
     "data": {
      "text/plain": [
       "1036"
      ]
     },
     "execution_count": 26,
     "metadata": {},
     "output_type": "execute_result"
    }
   ],
   "source": [
    "dmis.nD"
   ]
  },
  {
   "cell_type": "code",
   "execution_count": 27,
   "id": "501c24a2-e5d0-4435-8f75-0e85d510b0fc",
   "metadata": {},
   "outputs": [],
   "source": [
    "reg = regularization.Tikhonov(discretize.TensorMesh([1]))\n",
    "\n",
    "opt = optimization.InexactGaussNewton(maxIter=10, maxIterCG=20)\n",
    "inv_prob = inverse_problem.BaseInvProblem(dmis, reg, opt, beta=0)\n",
    "\n",
    "target = directives.TargetMisfit(chifact=1)\n",
    "progress = SaveInversionProgress()\n",
    "inv = inversion.BaseInversion(\n",
    "    inv_prob, directiveList=[target, progress]\n",
    ")"
   ]
  },
  {
   "cell_type": "code",
   "execution_count": 28,
   "id": "44f53382-8a77-4d94-abe7-8d8ab6ae1445",
   "metadata": {},
   "outputs": [
    {
     "name": "stdout",
     "output_type": "stream",
     "text": [
      "SimPEG.InvProblem will set Regularization.mref to m0.\n",
      "\n",
      "        SimPEG.InvProblem is setting bfgsH0 to the inverse of the eval2Deriv.\n",
      "        ***Done using same Solver and solverOpts as the problem***\n",
      "model has any nan: 0\n",
      "============================ Inexact Gauss Newton ============================\n",
      "  #     beta     phi_d     phi_m       f      |proj(x-g)-x|  LS    Comment   \n",
      "-----------------------------------------------------------------------------\n",
      "x0 has any nan: 0\n"
     ]
    },
    {
     "name": "stderr",
     "output_type": "stream",
     "text": [
      "/home/lheagy/.conda/envs/casing/lib/python3.9/site-packages/pymatsolver/direct.py:23: PardisoTypeConversionWarning: Converting csc_matrix matrix to CSR format, will slow down.\n",
      "  self.solver = MKLPardisoSolver(\n",
      "/home/lheagy/git/simpeg/discretize/discretize/utils/code_utils.py:182: FutureWarning: CylindricalMesh.edgeCurl has been deprecated, please use CylindricalMesh.edge_curl. It will be removed in version 1.0.0 of discretize.\n",
      "  warnings.warn(message, Warning)\n",
      "/home/lheagy/git/simpeg/discretize/discretize/utils/code_utils.py:182: FutureWarning: CylindricalMesh.vol has been deprecated, please use CylindricalMesh.cell_volumes. It will be removed in version 1.0.0 of discretize.\n",
      "  warnings.warn(message, Warning)\n",
      "/home/lheagy/git/simpeg/discretize/discretize/utils/code_utils.py:182: FutureWarning: CylindricalMesh.faceDiv has been deprecated, please use CylindricalMesh.face_divergence. It will be removed in version 1.0.0 of discretize.\n",
      "  warnings.warn(message, Warning)\n",
      "/home/lheagy/git/simpeg/discretize/discretize/base/base_tensor_mesh.py:1042: FutureWarning: hy has been deprecated, please access as mesh.h[1]\n",
      "  warnings.warn(\n",
      "/home/lheagy/git/simpeg/discretize/discretize/utils/code_utils.py:182: FutureWarning: CylindricalMesh.area has been deprecated, please use CylindricalMesh.face_areas. It will be removed in version 1.0.0 of discretize.\n",
      "  warnings.warn(message, Warning)\n",
      "/home/lheagy/.conda/envs/casing/lib/python3.9/site-packages/pymatsolver/direct.py:73: PardisoTypeConversionWarning: Converting csc_matrix matrix to CSR format, will slow down.\n",
      "  self.solver.refactor(self.A)\n",
      "/home/lheagy/git/simpeg/discretize/discretize/utils/code_utils.py:217: FutureWarning: CylindricalMesh.getInterpolationMat has been deprecated, please use CylindricalMesh.get_interpolation_matrix. It will be removed in version 1.0.0 of discretize.\n",
      "  warnings.warn(\n",
      "/home/lheagy/git/simpeg/discretize/discretize/utils/code_utils.py:217: FutureWarning: TensorMesh.getInterpolationMat has been deprecated, please use TensorMesh.get_interpolation_matrix. It will be removed in version 1.0.0 of discretize.\n",
      "  warnings.warn(\n"
     ]
    },
    {
     "name": "stdout",
     "output_type": "stream",
     "text": [
      "   0  0.00e+00  5.92e+04  0.00e+00  5.92e+04    2.51e-06      0              \n",
      "------------------------- STOP! -------------------------\n",
      "0 : |fc-fOld| = 1.0000e+00 <= tolF*(1+|f0|) = 0.0000e+00\n",
      "0 : |xc-x_last| = 1.0000e+00 <= tolX*(1+|x0|) = 0.0000e+00\n",
      "1 : |proj(x-g)-x|    = 2.5077e-06 <= tolG          = 1.0000e-01\n",
      "1 : |proj(x-g)-x|    = 2.5077e-06 <= 1e3*eps       = 1.0000e-02\n",
      "0 : maxIter   =      10    <= iter          =      0\n",
      "------------------------- DONE! -------------------------\n"
     ]
    }
   ],
   "source": [
    "mrec = inv.run(np.r_[-200])"
   ]
  },
  {
   "cell_type": "code",
   "execution_count": 29,
   "id": "4ca216c6-4ca4-4853-acd9-94cc50e12ba8",
   "metadata": {},
   "outputs": [
    {
     "data": {
      "text/plain": [
       "array([-200])"
      ]
     },
     "execution_count": 29,
     "metadata": {},
     "output_type": "execute_result"
    }
   ],
   "source": [
    "mrec"
   ]
  },
  {
   "cell_type": "markdown",
   "id": "b610a042-0949-4dcf-8da0-51358bc85758",
   "metadata": {},
   "source": [
    "## example 2: impacts on estimating the background conductivity\n",
    "\n"
   ]
  },
  {
   "cell_type": "code",
   "execution_count": 30,
   "id": "57ab7c9e-b7c9-40e3-9bb3-e6779567a491",
   "metadata": {},
   "outputs": [],
   "source": [
    "active_inds_casing_model = np.zeros(10, dtype=bool)\n",
    "active_inds_casing_model[0] = True\n",
    "parametric_casing_model = np.r_[\n",
    "    np.log(sigma_back), np.log(sigma_back), \n",
    "    np.log(sigma_casing), np.log(sigma_back), \n",
    "    np.r_[-20], np.r_[1],\n",
    "    (casing_a+casing_b)/2, casing_t, -casing_l, np.r_[0]\n",
    "]\n",
    "subsurface_cells = inv_mesh.cell_centers[:, 2] < 0\n",
    "\n",
    "active_model_params = maps.InjectActiveCells(\n",
    "    inv_mesh, indActive=active_inds_casing_model, \n",
    "    valInactive=parametric_casing_model[~active_inds_casing_model],\n",
    "    nC=10\n",
    ")\n",
    "casing_map = maps.ParametricCasingAndLayer(\n",
    "    inv_mesh, indActive=subsurface_cells, slope=1e5\n",
    ")\n",
    "inject_air_cells = maps.InjectActiveCells(\n",
    "    inv_mesh, indActive=subsurface_cells, valInactive=np.log(sigma_air)\n",
    ")\n",
    "exp_map = maps.ExpMap(inv_mesh)\n",
    "\n",
    "casing_background_mapping = exp_map * inject_air_cells * casing_map * active_model_params"
   ]
  },
  {
   "cell_type": "code",
   "execution_count": 31,
   "id": "0d59e0cc-af39-42f7-8877-7127d0c35cf8",
   "metadata": {},
   "outputs": [
    {
     "name": "stdout",
     "output_type": "stream",
     "text": [
      "4999836.609391265\n"
     ]
    }
   ],
   "source": [
    "sigma_test = casing_background_mapping * np.r_[np.log(sigma_back)]\n",
    "\n",
    "active_model_params.valInactive[2] = np.log(sigma_casing * (sigma_casing / sigma_test.max()))\n",
    "test = casing_background_mapping * np.r_[np.log(sigma_back)]\n",
    "print(test.max())"
   ]
  },
  {
   "cell_type": "code",
   "execution_count": 32,
   "id": "a5139356-3f42-4d14-9585-530e360ec47c",
   "metadata": {},
   "outputs": [
    {
     "name": "stdout",
     "output_type": "stream",
     "text": [
      "Testing ComboMap[ComboMap[ComboMap[ExpMap(137280,137280) * InjectActiveCells(137280,121440)](137280,121440) * ParametricCasingAndLayer(121440,10)](137280,10) * InjectActiveCells(10,1)](137280,1)\n",
      "==================== checkDerivative ====================\n",
      "iter    h         |ft-f0|   |ft-f0-h*J0*dx|  Order\n",
      "---------------------------------------------------------\n",
      " 0   1.00e-01    6.054e+04     9.292e+00      nan\n",
      " 1   1.00e-02    6.055e+03     9.294e-02      2.000\n",
      " 2   1.00e-03    6.055e+02     9.291e-04      2.000\n",
      " 3   1.00e-04    6.055e+01     8.958e-06      2.016\n",
      "========================= PASS! =========================\n",
      "Once upon a time, a happy little test passed.\n",
      "\n"
     ]
    },
    {
     "data": {
      "text/plain": [
       "True"
      ]
     },
     "execution_count": 32,
     "metadata": {},
     "output_type": "execute_result"
    }
   ],
   "source": [
    "casing_background_mapping.test(np.r_[np.log(sigma_back)])"
   ]
  },
  {
   "cell_type": "code",
   "execution_count": 33,
   "id": "194bcfe1-7790-4b13-8ae4-c1de867f041f",
   "metadata": {},
   "outputs": [
    {
     "data": {
      "text/plain": [
       "(-700.0, 50.0)"
      ]
     },
     "execution_count": 33,
     "metadata": {},
     "output_type": "execute_result"
    },
    {
     "data": {
      "image/png": "[encoded data removed]",
      "text/plain": [
       "<Figure size 288x360 with 2 Axes>"
      ]
     },
     "metadata": {
      "needs_background": "light"
     },
     "output_type": "display_data"
    }
   ],
   "source": [
    "xlim = 0.22*np.r_[-1, 1]\n",
    "zlim = np.r_[-700, 50]\n",
    "pcolor_opts={\"norm\":LogNorm(vmin=sigma_air, vmax=sigma_casing), \"cmap\":\"Spectral_r\"}\n",
    "\n",
    "fig, ax = plt.subplots(1, 1, figsize=(4, 5))\n",
    "out = casing_sim.view.plot_slice(\n",
    "    inv_mesh, casing_background_mapping * np.r_[np.log(1e-1)], pcolor_opts=pcolor_opts, ax=ax\n",
    ")\n",
    "ax.set_xlim(xlim)\n",
    "ax.set_ylim(zlim)"
   ]
  },
  {
   "cell_type": "code",
   "execution_count": 34,
   "id": "f6c348d6-a908-4b78-ad54-99155ebc39ce",
   "metadata": {},
   "outputs": [],
   "source": [
    "rx = tdem.receivers.PointElectricField(\n",
    "    locations=rx_locs, orientation=\"x\", times=rx_times\n",
    ")\n",
    "src = tdem.sources.LineCurrent([rx], location=src_locations)\n",
    "survey = tdem.Survey([src])\n",
    "\n",
    "inv_simulation2 = tdem.simulation.Simulation3DCurrentDensity(\n",
    "    mesh=inv_mesh, sigmaMap=casing_background_mapping,\n",
    "    survey=survey, solver=Pardiso, time_steps=np.diff(times), \n",
    ")\n",
    "\n",
    "key = \"casing_150\"\n",
    "dmis2 = data_misfit.L2DataMisfit(dobs[key], inv_simulation2)"
   ]
  },
  {
   "cell_type": "code",
   "execution_count": 35,
   "id": "5d61823d-067f-4b37-b692-8c0dd7f699f5",
   "metadata": {},
   "outputs": [],
   "source": [
    "reg2 = regularization.Tikhonov(discretize.TensorMesh([1]))\n",
    "\n",
    "opt2 = optimization.InexactGaussNewton(maxIter=10, maxIterCG=20)\n",
    "inv_prob2 = inverse_problem.BaseInvProblem(dmis2, reg2, opt2, beta=0)\n",
    "\n",
    "target2 = directives.TargetMisfit(chifact=1)\n",
    "progress2 = SaveInversionProgress()\n",
    "inv2 = inversion.BaseInversion(\n",
    "    inv_prob2, directiveList=[target2, progress2]\n",
    ")"
   ]
  },
  {
   "cell_type": "code",
   "execution_count": 36,
   "id": "923f7d48-09db-484f-bf2b-36652dabc3be",
   "metadata": {},
   "outputs": [
    {
     "name": "stdout",
     "output_type": "stream",
     "text": [
      "SimPEG.InvProblem will set Regularization.mref to m0.\n",
      "\n",
      "        SimPEG.InvProblem is setting bfgsH0 to the inverse of the eval2Deriv.\n",
      "        ***Done using same Solver and solverOpts as the problem***\n",
      "model has any nan: 0\n",
      "============================ Inexact Gauss Newton ============================\n",
      "  #     beta     phi_d     phi_m       f      |proj(x-g)-x|  LS    Comment   \n",
      "-----------------------------------------------------------------------------\n",
      "x0 has any nan: 0\n",
      "   0  0.00e+00  2.25e+04  0.00e+00  2.25e+04    9.40e+03      0              \n",
      "   1  0.00e+00  2.22e+04  9.58e-09  2.22e+04    1.34e+03      0              \n",
      "------------------------------------------------------------------\n",
      "0 :    ft     = 2.2155e+04 <= alp*descent     = 2.2153e+04\n",
      "1 : maxIterLS =      10    <= iterLS          =     10\n",
      "------------------------- End Linesearch -------------------------\n",
      "The linesearch got broken. Boo.\n"
     ]
    }
   ],
   "source": [
    "mrec2 = inv2.run(np.r_[np.log(sigma_back)])"
   ]
  },
  {
   "cell_type": "code",
   "execution_count": 40,
   "id": "cb270dab-5cc7-43e9-9087-554454fe4803",
   "metadata": {},
   "outputs": [
    {
     "data": {
      "text/plain": [
       "array([0.11484684])"
      ]
     },
     "execution_count": 40,
     "metadata": {},
     "output_type": "execute_result"
    }
   ],
   "source": [
    "np.exp(mrec2)"
   ]
  },
  {
   "cell_type": "code",
   "execution_count": 38,
   "id": "d8d5683e-f68d-4bb8-a79d-9485477d8972",
   "metadata": {},
   "outputs": [
    {
     "ename": "SyntaxError",
     "evalue": "unexpected EOF while parsing (3100435119.py, line 1)",
     "output_type": "error",
     "traceback": [
      "\u001b[0;36m  Input \u001b[0;32mIn [38]\u001b[0;36m\u001b[0m\n\u001b[0;31m    inv_simulation2.MfRhoIDeriv(\u001b[0m\n\u001b[0m                                ^\u001b[0m\n\u001b[0;31mSyntaxError\u001b[0m\u001b[0;31m:\u001b[0m unexpected EOF while parsing\n"
     ]
    }
   ],
   "source": [
    "inv_simulation2.MfRhoIDeriv("
   ]
  },
  {
   "cell_type": "code",
   "execution_count": null,
   "id": "241b2b86-c24c-43c3-b6d4-ef587eb0c39e",
   "metadata": {},
   "outputs": [],
   "source": [
    "phi = inv_simulation2.survey.source_list[0].phiInitial(inv_simulation2)\n"
   ]
  },
  {
   "cell_type": "code",
   "execution_count": null,
   "id": "ece47391-a744-4106-8eeb-9e618b772233",
   "metadata": {},
   "outputs": [],
   "source": [
    "D = discretize.utils.sdiag(inv_simulation2.mesh.vol) * inv_simulation2.mesh.faceDiv\n",
    "G = D.T\n",
    "v = np.r_[np.log(sigma_back)]\n",
    "Temp = inv_simulation2.MfRhoIDeriv(G * phi, v)"
   ]
  },
  {
   "cell_type": "code",
   "execution_count": null,
   "id": "f8247acd-b727-4d38-b9b7-e7aa26aa9d35",
   "metadata": {},
   "outputs": [],
   "source": [
    "tmp = inv_simulation2.rhoDeriv"
   ]
  },
  {
   "cell_type": "code",
   "execution_count": null,
   "id": "3ab58427-1b19-4fa4-bab6-9c76b4283fa5",
   "metadata": {},
   "outputs": [],
   "source": [
    "tmp.shape"
   ]
  },
  {
   "cell_type": "code",
   "execution_count": null,
   "id": "77fb89a9-6f4c-49ab-b800-b99c3d226196",
   "metadata": {},
   "outputs": [],
   "source": [
    "(tmp @ v).shape"
   ]
  },
  {
   "cell_type": "code",
   "execution_count": null,
   "id": "098bae82-635e-40e1-b401-1636dbeb005b",
   "metadata": {},
   "outputs": [],
   "source": [
    "inv_simulation.rhoDeriv.shape"
   ]
  },
  {
   "cell_type": "code",
   "execution_count": null,
   "id": "7b250403-5857-4863-b406-ff7658deba06",
   "metadata": {},
   "outputs": [],
   "source": [
    "inv_simulation2.MfRhoIDeriv??"
   ]
  },
  {
   "cell_type": "code",
   "execution_count": null,
   "id": "27a3b5e6-6b36-4ba0-bd1a-4de0399bda9c",
   "metadata": {},
   "outputs": [],
   "source": []
  },
  {
   "cell_type": "code",
   "execution_count": null,
   "id": "f6003ddf-7d0c-4cf3-b299-41f68ccd4866",
   "metadata": {},
   "outputs": [],
   "source": [
    "inv_simulation2.survey.source_list[0]._phiInitialDeriv(inv_simulation2, v)"
   ]
  },
  {
   "cell_type": "code",
   "execution_count": null,
   "id": "98d72f32-56e5-4733-af50-6cc016b0328b",
   "metadata": {},
   "outputs": [],
   "source": [
    "%debug"
   ]
  },
  {
   "cell_type": "code",
   "execution_count": null,
   "id": "0332a32b-a4b1-4d26-840c-d6b0cc4a5709",
   "metadata": {},
   "outputs": [],
   "source": [
    "casing_background_mapping.shape"
   ]
  },
  {
   "cell_type": "code",
   "execution_count": null,
   "id": "eacac17a-67c2-439f-92ff-b911902a47cb",
   "metadata": {},
   "outputs": [],
   "source": [
    "active_inds_casing_model = np.zeros(10, dtype=bool)\n",
    "active_inds_casing_model[0] = True\n",
    "active_inds_casing_model[8] = True\n",
    "\n",
    "parametric_casing_model = np.r_[\n",
    "    np.log(sigma_back), np.log(sigma_back), \n",
    "    np.log(sigma_casing), np.log(sigma_back), \n",
    "    np.r_[-20], np.r_[1],\n",
    "    (casing_a+casing_b)/2, casing_t, -casing_l, np.r_[0]\n",
    "]\n",
    "subsurface_cells = inv_mesh.cell_centers[:, 2] < 0\n",
    "\n",
    "active_model_params = maps.InjectActiveCells(\n",
    "    inv_mesh, indActive=active_inds_casing_model, \n",
    "    valInactive=parametric_casing_model[~active_inds_casing_model],\n",
    "    nC=10\n",
    ")\n",
    "casing_map = maps.ParametricCasingAndLayer(\n",
    "    inv_mesh, indActive=subsurface_cells, slope=1e5\n",
    ")\n",
    "inject_air_cells = maps.InjectActiveCells(\n",
    "    inv_mesh, indActive=subsurface_cells, valInactive=np.log(sigma_air)\n",
    ")\n",
    "exp_map = maps.ExpMap(inv_mesh)\n",
    "\n",
    "both_mapping = exp_map * inject_air_cells * casing_map * active_model_params"
   ]
  },
  {
   "cell_type": "code",
   "execution_count": null,
   "id": "3570ae25-358f-44a7-a40a-68bc7bf81dee",
   "metadata": {},
   "outputs": [],
   "source": [
    "rx = tdem.receivers.PointElectricField(\n",
    "    locations=rx_locs, orientation=\"x\", times=rx_times\n",
    ")\n",
    "src = tdem.sources.LineCurrent([rx], location=src_locations)\n",
    "survey = tdem.Survey([src])\n",
    "\n",
    "inv_simulation3 = tdem.simulation.Simulation3DCurrentDensity(\n",
    "    mesh=inv_mesh, sigmaMap=both_mapping,\n",
    "    survey=survey, solver=Pardiso, time_steps=np.diff(times), \n",
    ")\n",
    "\n",
    "key = \"casing_150\"\n",
    "dmis3 = data_misfit.L2DataMisfit(dobs[key], inv_simulation3)"
   ]
  },
  {
   "cell_type": "code",
   "execution_count": null,
   "id": "d4cdf197-f196-441c-b161-816aa40b33f6",
   "metadata": {},
   "outputs": [],
   "source": [
    "reg3 = regularization.Tikhonov(discretize.TensorMesh([2]))\n",
    "\n",
    "opt3 = optimization.InexactGaussNewton(maxIter=10, maxIterCG=20)\n",
    "inv_prob3 = inverse_problem.BaseInvProblem(dmis3, reg3, opt3, beta=0)\n",
    "\n",
    "target3 = directives.TargetMisfit(chifact=1)\n",
    "progress3 = SaveInversionProgress()\n",
    "inv3 = inversion.BaseInversion(\n",
    "    inv_prob3, directiveList=[target3, progress3]\n",
    ")"
   ]
  },
  {
   "cell_type": "code",
   "execution_count": null,
   "id": "aeee483a-a3d2-46f0-bbd5-aa7c6419eaa8",
   "metadata": {},
   "outputs": [],
   "source": [
    "mrec = inv3.run(np.r_[np.log(sigma_back), -casing_l])"
   ]
  },
  {
   "cell_type": "code",
   "execution_count": null,
   "id": "ac471e13-fe31-41e5-a692-be25a5c93127",
   "metadata": {},
   "outputs": [],
   "source": []
  }
 ],
 "metadata": {
  "kernelspec": {
   "display_name": "Python 3 (ipykernel)",
   "language": "python",
   "name": "python3"
  },
  "language_info": {
   "codemirror_mode": {
    "name": "ipython",
    "version": 3
   },
   "file_extension": ".py",
   "mimetype": "text/x-python",
   "name": "python",
   "nbconvert_exporter": "python",
   "pygments_lexer": "ipython3",
   "version": "3.9.13"
  }
 },
 "nbformat": 4,
 "nbformat_minor": 5
}
